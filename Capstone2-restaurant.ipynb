{
 "cells": [
  {
   "cell_type": "code",
   "execution_count": 1,
   "metadata": {},
   "outputs": [],
   "source": [
    "import numpy as np\n",
    "import pandas as pd\n",
    "import matplotlib.pyplot as plt\n",
    "import seaborn as sns\n",
    "from sklearn.model_selection import train_test_split\n",
    "from sklearn.feature_extraction.text import TfidfVectorizer\n",
    "from nltk.corpus import stopwords \n",
    "from nltk.tokenize import WordPunctTokenizer"
   ]
  },
  {
   "cell_type": "code",
   "execution_count": 4,
   "metadata": {},
   "outputs": [],
   "source": [
    "yelp = pd.read_csv('~/yelp_review_arizona.csv')"
   ]
  },
  {
   "cell_type": "code",
   "execution_count": 5,
   "metadata": {},
   "outputs": [],
   "source": [
    "df = yelp[['review_id', 'user_id', 'business_id', 'text', 'stars', 'date']]"
   ]
  },
  {
   "cell_type": "code",
   "execution_count": 6,
   "metadata": {},
   "outputs": [
    {
     "data": {
      "text/plain": [
       "review_id      0\n",
       "user_id        0\n",
       "business_id    0\n",
       "text           0\n",
       "stars          0\n",
       "date           0\n",
       "dtype: int64"
      ]
     },
     "execution_count": 6,
     "metadata": {},
     "output_type": "execute_result"
    }
   ],
   "source": [
    "df.isnull().sum()"
   ]
  },
  {
   "cell_type": "code",
   "execution_count": 7,
   "metadata": {},
   "outputs": [
    {
     "data": {
      "text/html": [
       "<div>\n",
       "<style scoped>\n",
       "    .dataframe tbody tr th:only-of-type {\n",
       "        vertical-align: middle;\n",
       "    }\n",
       "\n",
       "    .dataframe tbody tr th {\n",
       "        vertical-align: top;\n",
       "    }\n",
       "\n",
       "    .dataframe thead th {\n",
       "        text-align: right;\n",
       "    }\n",
       "</style>\n",
       "<table border=\"1\" class=\"dataframe\">\n",
       "  <thead>\n",
       "    <tr style=\"text-align: right;\">\n",
       "      <th></th>\n",
       "      <th>review_id</th>\n",
       "      <th>user_id</th>\n",
       "      <th>business_id</th>\n",
       "      <th>text</th>\n",
       "      <th>stars</th>\n",
       "      <th>date</th>\n",
       "    </tr>\n",
       "  </thead>\n",
       "  <tbody>\n",
       "    <tr>\n",
       "      <th>0</th>\n",
       "      <td>V93SYj2OLh5m9Cquzf-7kg</td>\n",
       "      <td>ZwVz20be-hOZnyAbevyMyQ</td>\n",
       "      <td>2c9Vptks_vowLgVUMnCgjw</td>\n",
       "      <td>Came here while in town for a country concert....</td>\n",
       "      <td>4.0</td>\n",
       "      <td>2013-09-04 01:29:46</td>\n",
       "    </tr>\n",
       "    <tr>\n",
       "      <th>1</th>\n",
       "      <td>vNTFadc6T9HeH3Qa78dc_Q</td>\n",
       "      <td>91TB-gzcNyxFh46TL0pmnQ</td>\n",
       "      <td>6nKR80xEGHYf2UxAe_Cu_g</td>\n",
       "      <td>Best barbecue this side of the Mississippi!!!!...</td>\n",
       "      <td>5.0</td>\n",
       "      <td>2015-12-05 02:50:10</td>\n",
       "    </tr>\n",
       "    <tr>\n",
       "      <th>2</th>\n",
       "      <td>SXRFBCt5eXCBF7TlI7UG6Q</td>\n",
       "      <td>Y_QBiZpATJoz8hKUfYF66A</td>\n",
       "      <td>fbQaKW0Lte0JQ_opbnjdKg</td>\n",
       "      <td>Absolutely amazing. Think Chipotle for enchila...</td>\n",
       "      <td>5.0</td>\n",
       "      <td>2014-04-01 01:56:00</td>\n",
       "    </tr>\n",
       "    <tr>\n",
       "      <th>3</th>\n",
       "      <td>CqMNjtG0hNZGhDw4RDE-zw</td>\n",
       "      <td>_Jg-IA0M-GSjBlGu-wmejg</td>\n",
       "      <td>r8764MtYyt8JhxMvrfM_xQ</td>\n",
       "      <td>I was really disappointed with my most recent ...</td>\n",
       "      <td>2.0</td>\n",
       "      <td>2014-10-11 03:53:53</td>\n",
       "    </tr>\n",
       "    <tr>\n",
       "      <th>4</th>\n",
       "      <td>5hZLouGEW4wm6BTJ5aNUNw</td>\n",
       "      <td>1CqkFliipv_X15WYn5aPfg</td>\n",
       "      <td>QS3QxI7u5PRdtbGgI0-UsA</td>\n",
       "      <td>I grade sushi restaurants on 3 factors:\\n- Qua...</td>\n",
       "      <td>4.0</td>\n",
       "      <td>2015-03-04 19:36:21</td>\n",
       "    </tr>\n",
       "  </tbody>\n",
       "</table>\n",
       "</div>"
      ],
      "text/plain": [
       "                review_id                 user_id             business_id  \\\n",
       "0  V93SYj2OLh5m9Cquzf-7kg  ZwVz20be-hOZnyAbevyMyQ  2c9Vptks_vowLgVUMnCgjw   \n",
       "1  vNTFadc6T9HeH3Qa78dc_Q  91TB-gzcNyxFh46TL0pmnQ  6nKR80xEGHYf2UxAe_Cu_g   \n",
       "2  SXRFBCt5eXCBF7TlI7UG6Q  Y_QBiZpATJoz8hKUfYF66A  fbQaKW0Lte0JQ_opbnjdKg   \n",
       "3  CqMNjtG0hNZGhDw4RDE-zw  _Jg-IA0M-GSjBlGu-wmejg  r8764MtYyt8JhxMvrfM_xQ   \n",
       "4  5hZLouGEW4wm6BTJ5aNUNw  1CqkFliipv_X15WYn5aPfg  QS3QxI7u5PRdtbGgI0-UsA   \n",
       "\n",
       "                                                text  stars  \\\n",
       "0  Came here while in town for a country concert....    4.0   \n",
       "1  Best barbecue this side of the Mississippi!!!!...    5.0   \n",
       "2  Absolutely amazing. Think Chipotle for enchila...    5.0   \n",
       "3  I was really disappointed with my most recent ...    2.0   \n",
       "4  I grade sushi restaurants on 3 factors:\\n- Qua...    4.0   \n",
       "\n",
       "                  date  \n",
       "0  2013-09-04 01:29:46  \n",
       "1  2015-12-05 02:50:10  \n",
       "2  2014-04-01 01:56:00  \n",
       "3  2014-10-11 03:53:53  \n",
       "4  2015-03-04 19:36:21  "
      ]
     },
     "execution_count": 7,
     "metadata": {},
     "output_type": "execute_result"
    }
   ],
   "source": [
    "df.head()\n"
   ]
  },
  {
   "cell_type": "code",
   "execution_count": 10,
   "metadata": {},
   "outputs": [
    {
     "name": "stdout",
     "output_type": "stream",
     "text": [
      "<class 'pandas.core.frame.DataFrame'>\n",
      "RangeIndex: 26606 entries, 0 to 26605\n",
      "Data columns (total 6 columns):\n",
      "review_id      26606 non-null object\n",
      "user_id        26606 non-null object\n",
      "business_id    26606 non-null object\n",
      "text           26606 non-null object\n",
      "stars          26606 non-null float64\n",
      "date           26606 non-null object\n",
      "dtypes: float64(1), object(5)\n",
      "memory usage: 1.2+ MB\n"
     ]
    }
   ],
   "source": [
    "df.info()"
   ]
  },
  {
   "cell_type": "code",
   "execution_count": 11,
   "metadata": {},
   "outputs": [],
   "source": [
    "business = pd.read_csv('yelp_business.csv')"
   ]
  },
  {
   "cell_type": "code",
   "execution_count": 15,
   "metadata": {},
   "outputs": [
    {
     "name": "stdout",
     "output_type": "stream",
     "text": [
      "<class 'pandas.core.frame.DataFrame'>\n",
      "RangeIndex: 192609 entries, 0 to 192608\n",
      "Data columns (total 14 columns):\n",
      "business_id     192609 non-null object\n",
      "name            192609 non-null object\n",
      "address         184927 non-null object\n",
      "city            192608 non-null object\n",
      "state           192609 non-null object\n",
      "postal_code     191950 non-null object\n",
      "latitude        192609 non-null float64\n",
      "longitude       192609 non-null float64\n",
      "stars           192609 non-null float64\n",
      "review_count    192609 non-null int64\n",
      "is_open         192609 non-null int64\n",
      "attributes      163773 non-null object\n",
      "categories      192127 non-null object\n",
      "hours           147779 non-null object\n",
      "dtypes: float64(3), int64(2), object(9)\n",
      "memory usage: 20.6+ MB\n"
     ]
    },
    {
     "data": {
      "text/plain": [
       "business_id         0\n",
       "name                0\n",
       "address          7682\n",
       "city                1\n",
       "state               0\n",
       "postal_code       659\n",
       "latitude            0\n",
       "longitude           0\n",
       "stars               0\n",
       "review_count        0\n",
       "is_open             0\n",
       "attributes      28836\n",
       "categories        482\n",
       "hours           44830\n",
       "dtype: int64"
      ]
     },
     "execution_count": 15,
     "metadata": {},
     "output_type": "execute_result"
    }
   ],
   "source": [
    "business.info()\n",
    "business.isnull().sum()"
   ]
  },
  {
   "cell_type": "code",
   "execution_count": 16,
   "metadata": {},
   "outputs": [],
   "source": [
    "yelp = df[['business_id', 'user_id', 'stars', 'text']]"
   ]
  },
  {
   "cell_type": "code",
   "execution_count": 18,
   "metadata": {},
   "outputs": [],
   "source": [
    "\n",
    "import string\n",
    "from nltk.corpus import stopwords\n",
    "import warnings\n",
    "warnings.filterwarnings('ignore')"
   ]
  },
  {
   "cell_type": "code",
   "execution_count": 20,
   "metadata": {},
   "outputs": [],
   "source": [
    "stop = []\n",
    "for word in stopwords.words('english'):\n",
    "    s = [char for char in word if char not in string.punctuation]\n",
    "    stop.append(''.join(s))"
   ]
  },
  {
   "cell_type": "code",
   "execution_count": 21,
   "metadata": {},
   "outputs": [],
   "source": [
    "def text_process(mess):\n",
    "    \"\"\"\n",
    "    Takes in a string of text, then performs the following:\n",
    "    1. Remove all punctuation\n",
    "    2. Remove all stopwords\n",
    "    3. Returns a list of the cleaned text\n",
    "    \"\"\"\n",
    "    # Check characters to see if they are in punctuation\n",
    "    nopunc = [char for char in mess if char not in string.punctuation]\n",
    "\n",
    "    # Join the characters again to form the string.\n",
    "    nopunc = ''.join(nopunc)\n",
    "    \n",
    "    # Now just remove any stopwords\n",
    "    return \" \".join([word for word in nopunc.split() if word.lower() not in stop])"
   ]
  },
  {
   "cell_type": "code",
   "execution_count": 23,
   "metadata": {},
   "outputs": [],
   "source": [
    "yelp['text'] = yelp['text'].apply(text_process)"
   ]
  },
  {
   "cell_type": "code",
   "execution_count": 25,
   "metadata": {},
   "outputs": [],
   "source": [
    "#Split train test for testing the model later\n",
    "vld_size=0.15\n",
    "X_train, X_valid, y_train, y_valid = train_test_split(yelp['text'], df['business_id'], test_size = vld_size)\n"
   ]
  },
  {
   "cell_type": "code",
   "execution_count": 26,
   "metadata": {},
   "outputs": [],
   "source": [
    "userid_df = yelp[['user_id','text']]\n",
    "business_df = yelp[['business_id', 'text']]"
   ]
  },
  {
   "cell_type": "code",
   "execution_count": 27,
   "metadata": {},
   "outputs": [
    {
     "data": {
      "text/html": [
       "<div>\n",
       "<style scoped>\n",
       "    .dataframe tbody tr th:only-of-type {\n",
       "        vertical-align: middle;\n",
       "    }\n",
       "\n",
       "    .dataframe tbody tr th {\n",
       "        vertical-align: top;\n",
       "    }\n",
       "\n",
       "    .dataframe thead th {\n",
       "        text-align: right;\n",
       "    }\n",
       "</style>\n",
       "<table border=\"1\" class=\"dataframe\">\n",
       "  <thead>\n",
       "    <tr style=\"text-align: right;\">\n",
       "      <th></th>\n",
       "      <th>user_id</th>\n",
       "      <th>text</th>\n",
       "    </tr>\n",
       "  </thead>\n",
       "  <tbody>\n",
       "    <tr>\n",
       "      <th>0</th>\n",
       "      <td>ZwVz20be-hOZnyAbevyMyQ</td>\n",
       "      <td>Came town country concert better way start day...</td>\n",
       "    </tr>\n",
       "    <tr>\n",
       "      <th>1</th>\n",
       "      <td>91TB-gzcNyxFh46TL0pmnQ</td>\n",
       "      <td>Best barbecue side Mississippi Come car washed...</td>\n",
       "    </tr>\n",
       "    <tr>\n",
       "      <th>2</th>\n",
       "      <td>Y_QBiZpATJoz8hKUfYF66A</td>\n",
       "      <td>Absolutely amazing Think Chipotle enchiladas N...</td>\n",
       "    </tr>\n",
       "    <tr>\n",
       "      <th>3</th>\n",
       "      <td>_Jg-IA0M-GSjBlGu-wmejg</td>\n",
       "      <td>really disappointed recent visit Vintage 95 ma...</td>\n",
       "    </tr>\n",
       "    <tr>\n",
       "      <th>4</th>\n",
       "      <td>1CqkFliipv_X15WYn5aPfg</td>\n",
       "      <td>grade sushi restaurants 3 factors Quality Exce...</td>\n",
       "    </tr>\n",
       "  </tbody>\n",
       "</table>\n",
       "</div>"
      ],
      "text/plain": [
       "                  user_id                                               text\n",
       "0  ZwVz20be-hOZnyAbevyMyQ  Came town country concert better way start day...\n",
       "1  91TB-gzcNyxFh46TL0pmnQ  Best barbecue side Mississippi Come car washed...\n",
       "2  Y_QBiZpATJoz8hKUfYF66A  Absolutely amazing Think Chipotle enchiladas N...\n",
       "3  _Jg-IA0M-GSjBlGu-wmejg  really disappointed recent visit Vintage 95 ma...\n",
       "4  1CqkFliipv_X15WYn5aPfg  grade sushi restaurants 3 factors Quality Exce..."
      ]
     },
     "execution_count": 27,
     "metadata": {},
     "output_type": "execute_result"
    }
   ],
   "source": [
    "userid_df.head()"
   ]
  },
  {
   "cell_type": "code",
   "execution_count": 28,
   "metadata": {},
   "outputs": [
    {
     "data": {
      "text/plain": [
       "0        Came town country concert better way start day...\n",
       "1098     Amazing Im golfer ended loving went family lov...\n",
       "3909     saw many great reviews place decided try high ...\n",
       "11491    Amazing Mexican Asian infusion good service sa...\n",
       "19647    beautiful hotel excellent service Nick front a...\n",
       "Name: text, dtype: object"
      ]
     },
     "execution_count": 28,
     "metadata": {},
     "output_type": "execute_result"
    }
   ],
   "source": [
    "userid_df[userid_df['user_id']=='ZwVz20be-hOZnyAbevyMyQ']['text']"
   ]
  },
  {
   "cell_type": "code",
   "execution_count": 29,
   "metadata": {},
   "outputs": [
    {
     "data": {
      "text/html": [
       "<div>\n",
       "<style scoped>\n",
       "    .dataframe tbody tr th:only-of-type {\n",
       "        vertical-align: middle;\n",
       "    }\n",
       "\n",
       "    .dataframe tbody tr th {\n",
       "        vertical-align: top;\n",
       "    }\n",
       "\n",
       "    .dataframe thead th {\n",
       "        text-align: right;\n",
       "    }\n",
       "</style>\n",
       "<table border=\"1\" class=\"dataframe\">\n",
       "  <thead>\n",
       "    <tr style=\"text-align: right;\">\n",
       "      <th></th>\n",
       "      <th>business_id</th>\n",
       "      <th>text</th>\n",
       "    </tr>\n",
       "  </thead>\n",
       "  <tbody>\n",
       "    <tr>\n",
       "      <th>0</th>\n",
       "      <td>2c9Vptks_vowLgVUMnCgjw</td>\n",
       "      <td>Came town country concert better way start day...</td>\n",
       "    </tr>\n",
       "    <tr>\n",
       "      <th>1</th>\n",
       "      <td>6nKR80xEGHYf2UxAe_Cu_g</td>\n",
       "      <td>Best barbecue side Mississippi Come car washed...</td>\n",
       "    </tr>\n",
       "    <tr>\n",
       "      <th>2</th>\n",
       "      <td>fbQaKW0Lte0JQ_opbnjdKg</td>\n",
       "      <td>Absolutely amazing Think Chipotle enchiladas N...</td>\n",
       "    </tr>\n",
       "    <tr>\n",
       "      <th>3</th>\n",
       "      <td>r8764MtYyt8JhxMvrfM_xQ</td>\n",
       "      <td>really disappointed recent visit Vintage 95 ma...</td>\n",
       "    </tr>\n",
       "    <tr>\n",
       "      <th>4</th>\n",
       "      <td>QS3QxI7u5PRdtbGgI0-UsA</td>\n",
       "      <td>grade sushi restaurants 3 factors Quality Exce...</td>\n",
       "    </tr>\n",
       "  </tbody>\n",
       "</table>\n",
       "</div>"
      ],
      "text/plain": [
       "              business_id                                               text\n",
       "0  2c9Vptks_vowLgVUMnCgjw  Came town country concert better way start day...\n",
       "1  6nKR80xEGHYf2UxAe_Cu_g  Best barbecue side Mississippi Come car washed...\n",
       "2  fbQaKW0Lte0JQ_opbnjdKg  Absolutely amazing Think Chipotle enchiladas N...\n",
       "3  r8764MtYyt8JhxMvrfM_xQ  really disappointed recent visit Vintage 95 ma...\n",
       "4  QS3QxI7u5PRdtbGgI0-UsA  grade sushi restaurants 3 factors Quality Exce..."
      ]
     },
     "execution_count": 29,
     "metadata": {},
     "output_type": "execute_result"
    }
   ],
   "source": [
    "business_df.head()"
   ]
  },
  {
   "cell_type": "code",
   "execution_count": 30,
   "metadata": {},
   "outputs": [],
   "source": [
    "userid_df = userid_df.groupby('user_id').agg({'text': ' '.join})\n",
    "business_df = business_df.groupby('business_id').agg({'text': ' '.join})"
   ]
  },
  {
   "cell_type": "code",
   "execution_count": 31,
   "metadata": {},
   "outputs": [
    {
     "data": {
      "text/html": [
       "<div>\n",
       "<style scoped>\n",
       "    .dataframe tbody tr th:only-of-type {\n",
       "        vertical-align: middle;\n",
       "    }\n",
       "\n",
       "    .dataframe tbody tr th {\n",
       "        vertical-align: top;\n",
       "    }\n",
       "\n",
       "    .dataframe thead th {\n",
       "        text-align: right;\n",
       "    }\n",
       "</style>\n",
       "<table border=\"1\" class=\"dataframe\">\n",
       "  <thead>\n",
       "    <tr style=\"text-align: right;\">\n",
       "      <th></th>\n",
       "      <th>text</th>\n",
       "    </tr>\n",
       "    <tr>\n",
       "      <th>user_id</th>\n",
       "      <th></th>\n",
       "    </tr>\n",
       "  </thead>\n",
       "  <tbody>\n",
       "    <tr>\n",
       "      <th>--2HUmLkcNHZp0xw6AMBPg</th>\n",
       "      <td>place JAM Surfer vibe great eats love machaca ...</td>\n",
       "    </tr>\n",
       "    <tr>\n",
       "      <th>--4rAAfZnEIAKJE80aIiYg</th>\n",
       "      <td>pulled pork spicy bbq sauce impressed Probably...</td>\n",
       "    </tr>\n",
       "    <tr>\n",
       "      <th>--Nnm_506G_p8MxAOQna5w</th>\n",
       "      <td>Cant say burger anything special Taste ok Shak...</td>\n",
       "    </tr>\n",
       "    <tr>\n",
       "      <th>--ty7Z9fEt08E3dS3_qoSA</th>\n",
       "      <td>know think important trust Yelp kind reviews t...</td>\n",
       "    </tr>\n",
       "    <tr>\n",
       "      <th>-0IiMAZI2SsQ7VmyzJjokQ</th>\n",
       "      <td>Ever fan roadside attractions Americana Id rea...</td>\n",
       "    </tr>\n",
       "  </tbody>\n",
       "</table>\n",
       "</div>"
      ],
      "text/plain": [
       "                                                                     text\n",
       "user_id                                                                  \n",
       "--2HUmLkcNHZp0xw6AMBPg  place JAM Surfer vibe great eats love machaca ...\n",
       "--4rAAfZnEIAKJE80aIiYg  pulled pork spicy bbq sauce impressed Probably...\n",
       "--Nnm_506G_p8MxAOQna5w  Cant say burger anything special Taste ok Shak...\n",
       "--ty7Z9fEt08E3dS3_qoSA  know think important trust Yelp kind reviews t...\n",
       "-0IiMAZI2SsQ7VmyzJjokQ  Ever fan roadside attractions Americana Id rea..."
      ]
     },
     "execution_count": 31,
     "metadata": {},
     "output_type": "execute_result"
    }
   ],
   "source": [
    "userid_df.head()"
   ]
  },
  {
   "cell_type": "code",
   "execution_count": 32,
   "metadata": {},
   "outputs": [
    {
     "data": {
      "text/plain": [
       "'Came town country concert better way start day Everything great service amazing time walked door sat table surprise beer whiskey tap table pay ounce screen show drank food great whiskey burger favorite country fans must Scottsdale Amazing Im golfer ended loving went family loves golf planned staying hour since golf 6 hours later left far drive place right food amazing expect good brisket tacos chorizo sliders favorite Good quality food many unique items highly recommend place people ages teens loved bays nice roomy 7 us bay 10 people must try back soon saw many great reviews place decided try high hopes loved atmosphere kids loved Texas trivia game thats good thing could say steak came cooked way asked took back fix steak flavor covered butter thought steak even kids eat theres waitress asked daughter something wrong since ate bites explained like said ok walked away shrimp good pricey bugers ok end pushing us take home since ate almost none politely declined still came boxes trying get us take chicken fried chicken daughters friend ordered another item thatcwas horrible gravy flavor tasted piece fatty pulled skin even look fully cooked Maybe night knows pricey quality food recieved Nothing flavor guess thats sauces spices table Amazing Mexican Asian infusion good service saw driving Im glad stopped Everything amazing tried lot Order many plates share everything worth trying Blanca server great help suggestions making sure everything needed patient kept adding Come hungry much try mexican street corn popcorn amazing steak pepita torta mouth watering rolla chingon amazing unique korean tacos must Love atmosphere eclectic place lots choose including drinks loaded mule refreshing tres leches cake Im eating right say Wow beautiful hotel excellent service Nick front accommodating needs cheer competition course girls forgot stuff got us needed items suggested places pick rest rooms nice extremely clean reason gave four stars parking situation onsite parking except vallet 3000 night Makes difficult staying downtown Im assuming case hotels area shop everything could need cafe convenient food toom service excellent Terrance pool area great place gather friends relax definitely back highly recommend hotel'"
      ]
     },
     "execution_count": 32,
     "metadata": {},
     "output_type": "execute_result"
    }
   ],
   "source": [
    "userid_df.loc['ZwVz20be-hOZnyAbevyMyQ']['text']"
   ]
  },
  {
   "cell_type": "code",
   "execution_count": 33,
   "metadata": {},
   "outputs": [],
   "source": [
    "from sklearn.feature_extraction.text import TfidfVectorizer\n"
   ]
  },
  {
   "cell_type": "code",
   "execution_count": 34,
   "metadata": {},
   "outputs": [
    {
     "data": {
      "text/plain": [
       "(10937, 5000)"
      ]
     },
     "execution_count": 34,
     "metadata": {},
     "output_type": "execute_result"
    }
   ],
   "source": [
    "#userid vectorizer\n",
    "userid_vectorizer = TfidfVectorizer(tokenizer = WordPunctTokenizer().tokenize, max_features=5000)\n",
    "userid_vectors = userid_vectorizer.fit_transform(userid_df['text'])\n",
    "userid_vectors.shape"
   ]
  },
  {
   "cell_type": "code",
   "execution_count": 35,
   "metadata": {},
   "outputs": [
    {
     "data": {
      "text/plain": [
       "<10937x5000 sparse matrix of type '<class 'numpy.float64'>'\n",
       "\twith 1083887 stored elements in Compressed Sparse Row format>"
      ]
     },
     "execution_count": 35,
     "metadata": {},
     "output_type": "execute_result"
    }
   ],
   "source": [
    "userid_vectors"
   ]
  },
  {
   "cell_type": "code",
   "execution_count": 36,
   "metadata": {},
   "outputs": [
    {
     "data": {
      "text/plain": [
       "(1411, 5000)"
      ]
     },
     "execution_count": 36,
     "metadata": {},
     "output_type": "execute_result"
    }
   ],
   "source": [
    "#Business id vectorizer\n",
    "businessid_vectorizer = TfidfVectorizer(tokenizer = WordPunctTokenizer().tokenize, max_features=5000)\n",
    "businessid_vectors = businessid_vectorizer.fit_transform(business_df['text'])\n",
    "businessid_vectors.shape"
   ]
  },
  {
   "cell_type": "code",
   "execution_count": 38,
   "metadata": {},
   "outputs": [
    {
     "data": {
      "text/plain": [
       "(10937, 1411)"
      ]
     },
     "execution_count": 38,
     "metadata": {},
     "output_type": "execute_result"
    }
   ],
   "source": [
    "userid_rating_matrix = pd.pivot_table(yelp, values='stars', index=['user_id'], columns=['business_id'])\n",
    "userid_rating_matrix.shape"
   ]
  },
  {
   "cell_type": "code",
   "execution_count": 39,
   "metadata": {},
   "outputs": [
    {
     "data": {
      "text/html": [
       "<div>\n",
       "<style scoped>\n",
       "    .dataframe tbody tr th:only-of-type {\n",
       "        vertical-align: middle;\n",
       "    }\n",
       "\n",
       "    .dataframe tbody tr th {\n",
       "        vertical-align: top;\n",
       "    }\n",
       "\n",
       "    .dataframe thead th {\n",
       "        text-align: right;\n",
       "    }\n",
       "</style>\n",
       "<table border=\"1\" class=\"dataframe\">\n",
       "  <thead>\n",
       "    <tr style=\"text-align: right;\">\n",
       "      <th>business_id</th>\n",
       "      <th>-050d_XIor1NpCuWkbIVaQ</th>\n",
       "      <th>-1UMR00eXtwaeh59pEiDjA</th>\n",
       "      <th>-4TMQnQJW1yd6NqGRDvAeA</th>\n",
       "      <th>-6h3K1hj0d4DRcZNUtHDuw</th>\n",
       "      <th>-8QlV3b_9H4BAh6LgMIr1g</th>\n",
       "      <th>-9eNGMp8XiygI8t8QFuFWw</th>\n",
       "      <th>-9nai28tnoylwViuJVrYEQ</th>\n",
       "      <th>-Bdw-5H5C4AYSMGnAvmnzw</th>\n",
       "      <th>-BxWyEIQ6wypT-37MzZizQ</th>\n",
       "      <th>-CfFjcCcGGDM9MVH_d42RQ</th>\n",
       "      <th>...</th>\n",
       "      <th>z_lDO8d8nkSmcvTjB4N69A</th>\n",
       "      <th>za9qr9ZZWLTfEgTfogRbUw</th>\n",
       "      <th>zbrFk-4ejesAJD8EwcdHxg</th>\n",
       "      <th>zfiSQ1dl3vTJ-og96eqXGA</th>\n",
       "      <th>zidkKI_N1OPxsiddTOQH_Q</th>\n",
       "      <th>zqNgwQjj0_XAll-neGikIw</th>\n",
       "      <th>zr93wrNyXzc-HW4IcK4iRQ</th>\n",
       "      <th>zrDi4gEaUi64lAMfJU51dw</th>\n",
       "      <th>zrTGcb83AsfyVTMrsCa65A</th>\n",
       "      <th>zuVvDYJkKAbXQTTBauAqJQ</th>\n",
       "    </tr>\n",
       "    <tr>\n",
       "      <th>user_id</th>\n",
       "      <th></th>\n",
       "      <th></th>\n",
       "      <th></th>\n",
       "      <th></th>\n",
       "      <th></th>\n",
       "      <th></th>\n",
       "      <th></th>\n",
       "      <th></th>\n",
       "      <th></th>\n",
       "      <th></th>\n",
       "      <th></th>\n",
       "      <th></th>\n",
       "      <th></th>\n",
       "      <th></th>\n",
       "      <th></th>\n",
       "      <th></th>\n",
       "      <th></th>\n",
       "      <th></th>\n",
       "      <th></th>\n",
       "      <th></th>\n",
       "      <th></th>\n",
       "    </tr>\n",
       "  </thead>\n",
       "  <tbody>\n",
       "    <tr>\n",
       "      <th>--2HUmLkcNHZp0xw6AMBPg</th>\n",
       "      <td>NaN</td>\n",
       "      <td>NaN</td>\n",
       "      <td>NaN</td>\n",
       "      <td>NaN</td>\n",
       "      <td>NaN</td>\n",
       "      <td>NaN</td>\n",
       "      <td>NaN</td>\n",
       "      <td>NaN</td>\n",
       "      <td>NaN</td>\n",
       "      <td>NaN</td>\n",
       "      <td>...</td>\n",
       "      <td>NaN</td>\n",
       "      <td>NaN</td>\n",
       "      <td>NaN</td>\n",
       "      <td>NaN</td>\n",
       "      <td>NaN</td>\n",
       "      <td>NaN</td>\n",
       "      <td>NaN</td>\n",
       "      <td>NaN</td>\n",
       "      <td>NaN</td>\n",
       "      <td>NaN</td>\n",
       "    </tr>\n",
       "    <tr>\n",
       "      <th>--4rAAfZnEIAKJE80aIiYg</th>\n",
       "      <td>NaN</td>\n",
       "      <td>NaN</td>\n",
       "      <td>NaN</td>\n",
       "      <td>NaN</td>\n",
       "      <td>NaN</td>\n",
       "      <td>NaN</td>\n",
       "      <td>NaN</td>\n",
       "      <td>NaN</td>\n",
       "      <td>NaN</td>\n",
       "      <td>NaN</td>\n",
       "      <td>...</td>\n",
       "      <td>NaN</td>\n",
       "      <td>NaN</td>\n",
       "      <td>NaN</td>\n",
       "      <td>NaN</td>\n",
       "      <td>NaN</td>\n",
       "      <td>NaN</td>\n",
       "      <td>NaN</td>\n",
       "      <td>NaN</td>\n",
       "      <td>NaN</td>\n",
       "      <td>NaN</td>\n",
       "    </tr>\n",
       "    <tr>\n",
       "      <th>--Nnm_506G_p8MxAOQna5w</th>\n",
       "      <td>NaN</td>\n",
       "      <td>NaN</td>\n",
       "      <td>NaN</td>\n",
       "      <td>NaN</td>\n",
       "      <td>NaN</td>\n",
       "      <td>NaN</td>\n",
       "      <td>NaN</td>\n",
       "      <td>NaN</td>\n",
       "      <td>NaN</td>\n",
       "      <td>NaN</td>\n",
       "      <td>...</td>\n",
       "      <td>NaN</td>\n",
       "      <td>NaN</td>\n",
       "      <td>NaN</td>\n",
       "      <td>NaN</td>\n",
       "      <td>NaN</td>\n",
       "      <td>NaN</td>\n",
       "      <td>NaN</td>\n",
       "      <td>NaN</td>\n",
       "      <td>NaN</td>\n",
       "      <td>NaN</td>\n",
       "    </tr>\n",
       "    <tr>\n",
       "      <th>--ty7Z9fEt08E3dS3_qoSA</th>\n",
       "      <td>NaN</td>\n",
       "      <td>NaN</td>\n",
       "      <td>NaN</td>\n",
       "      <td>NaN</td>\n",
       "      <td>NaN</td>\n",
       "      <td>NaN</td>\n",
       "      <td>NaN</td>\n",
       "      <td>NaN</td>\n",
       "      <td>NaN</td>\n",
       "      <td>NaN</td>\n",
       "      <td>...</td>\n",
       "      <td>NaN</td>\n",
       "      <td>NaN</td>\n",
       "      <td>NaN</td>\n",
       "      <td>NaN</td>\n",
       "      <td>NaN</td>\n",
       "      <td>NaN</td>\n",
       "      <td>NaN</td>\n",
       "      <td>NaN</td>\n",
       "      <td>NaN</td>\n",
       "      <td>NaN</td>\n",
       "    </tr>\n",
       "    <tr>\n",
       "      <th>-0IiMAZI2SsQ7VmyzJjokQ</th>\n",
       "      <td>NaN</td>\n",
       "      <td>NaN</td>\n",
       "      <td>NaN</td>\n",
       "      <td>NaN</td>\n",
       "      <td>NaN</td>\n",
       "      <td>NaN</td>\n",
       "      <td>NaN</td>\n",
       "      <td>NaN</td>\n",
       "      <td>NaN</td>\n",
       "      <td>NaN</td>\n",
       "      <td>...</td>\n",
       "      <td>NaN</td>\n",
       "      <td>NaN</td>\n",
       "      <td>NaN</td>\n",
       "      <td>NaN</td>\n",
       "      <td>NaN</td>\n",
       "      <td>NaN</td>\n",
       "      <td>NaN</td>\n",
       "      <td>NaN</td>\n",
       "      <td>NaN</td>\n",
       "      <td>NaN</td>\n",
       "    </tr>\n",
       "  </tbody>\n",
       "</table>\n",
       "<p>5 rows × 1411 columns</p>\n",
       "</div>"
      ],
      "text/plain": [
       "business_id             -050d_XIor1NpCuWkbIVaQ  -1UMR00eXtwaeh59pEiDjA  \\\n",
       "user_id                                                                  \n",
       "--2HUmLkcNHZp0xw6AMBPg                     NaN                     NaN   \n",
       "--4rAAfZnEIAKJE80aIiYg                     NaN                     NaN   \n",
       "--Nnm_506G_p8MxAOQna5w                     NaN                     NaN   \n",
       "--ty7Z9fEt08E3dS3_qoSA                     NaN                     NaN   \n",
       "-0IiMAZI2SsQ7VmyzJjokQ                     NaN                     NaN   \n",
       "\n",
       "business_id             -4TMQnQJW1yd6NqGRDvAeA  -6h3K1hj0d4DRcZNUtHDuw  \\\n",
       "user_id                                                                  \n",
       "--2HUmLkcNHZp0xw6AMBPg                     NaN                     NaN   \n",
       "--4rAAfZnEIAKJE80aIiYg                     NaN                     NaN   \n",
       "--Nnm_506G_p8MxAOQna5w                     NaN                     NaN   \n",
       "--ty7Z9fEt08E3dS3_qoSA                     NaN                     NaN   \n",
       "-0IiMAZI2SsQ7VmyzJjokQ                     NaN                     NaN   \n",
       "\n",
       "business_id             -8QlV3b_9H4BAh6LgMIr1g  -9eNGMp8XiygI8t8QFuFWw  \\\n",
       "user_id                                                                  \n",
       "--2HUmLkcNHZp0xw6AMBPg                     NaN                     NaN   \n",
       "--4rAAfZnEIAKJE80aIiYg                     NaN                     NaN   \n",
       "--Nnm_506G_p8MxAOQna5w                     NaN                     NaN   \n",
       "--ty7Z9fEt08E3dS3_qoSA                     NaN                     NaN   \n",
       "-0IiMAZI2SsQ7VmyzJjokQ                     NaN                     NaN   \n",
       "\n",
       "business_id             -9nai28tnoylwViuJVrYEQ  -Bdw-5H5C4AYSMGnAvmnzw  \\\n",
       "user_id                                                                  \n",
       "--2HUmLkcNHZp0xw6AMBPg                     NaN                     NaN   \n",
       "--4rAAfZnEIAKJE80aIiYg                     NaN                     NaN   \n",
       "--Nnm_506G_p8MxAOQna5w                     NaN                     NaN   \n",
       "--ty7Z9fEt08E3dS3_qoSA                     NaN                     NaN   \n",
       "-0IiMAZI2SsQ7VmyzJjokQ                     NaN                     NaN   \n",
       "\n",
       "business_id             -BxWyEIQ6wypT-37MzZizQ  -CfFjcCcGGDM9MVH_d42RQ  \\\n",
       "user_id                                                                  \n",
       "--2HUmLkcNHZp0xw6AMBPg                     NaN                     NaN   \n",
       "--4rAAfZnEIAKJE80aIiYg                     NaN                     NaN   \n",
       "--Nnm_506G_p8MxAOQna5w                     NaN                     NaN   \n",
       "--ty7Z9fEt08E3dS3_qoSA                     NaN                     NaN   \n",
       "-0IiMAZI2SsQ7VmyzJjokQ                     NaN                     NaN   \n",
       "\n",
       "business_id                      ...            z_lDO8d8nkSmcvTjB4N69A  \\\n",
       "user_id                          ...                                     \n",
       "--2HUmLkcNHZp0xw6AMBPg           ...                               NaN   \n",
       "--4rAAfZnEIAKJE80aIiYg           ...                               NaN   \n",
       "--Nnm_506G_p8MxAOQna5w           ...                               NaN   \n",
       "--ty7Z9fEt08E3dS3_qoSA           ...                               NaN   \n",
       "-0IiMAZI2SsQ7VmyzJjokQ           ...                               NaN   \n",
       "\n",
       "business_id             za9qr9ZZWLTfEgTfogRbUw  zbrFk-4ejesAJD8EwcdHxg  \\\n",
       "user_id                                                                  \n",
       "--2HUmLkcNHZp0xw6AMBPg                     NaN                     NaN   \n",
       "--4rAAfZnEIAKJE80aIiYg                     NaN                     NaN   \n",
       "--Nnm_506G_p8MxAOQna5w                     NaN                     NaN   \n",
       "--ty7Z9fEt08E3dS3_qoSA                     NaN                     NaN   \n",
       "-0IiMAZI2SsQ7VmyzJjokQ                     NaN                     NaN   \n",
       "\n",
       "business_id             zfiSQ1dl3vTJ-og96eqXGA  zidkKI_N1OPxsiddTOQH_Q  \\\n",
       "user_id                                                                  \n",
       "--2HUmLkcNHZp0xw6AMBPg                     NaN                     NaN   \n",
       "--4rAAfZnEIAKJE80aIiYg                     NaN                     NaN   \n",
       "--Nnm_506G_p8MxAOQna5w                     NaN                     NaN   \n",
       "--ty7Z9fEt08E3dS3_qoSA                     NaN                     NaN   \n",
       "-0IiMAZI2SsQ7VmyzJjokQ                     NaN                     NaN   \n",
       "\n",
       "business_id             zqNgwQjj0_XAll-neGikIw  zr93wrNyXzc-HW4IcK4iRQ  \\\n",
       "user_id                                                                  \n",
       "--2HUmLkcNHZp0xw6AMBPg                     NaN                     NaN   \n",
       "--4rAAfZnEIAKJE80aIiYg                     NaN                     NaN   \n",
       "--Nnm_506G_p8MxAOQna5w                     NaN                     NaN   \n",
       "--ty7Z9fEt08E3dS3_qoSA                     NaN                     NaN   \n",
       "-0IiMAZI2SsQ7VmyzJjokQ                     NaN                     NaN   \n",
       "\n",
       "business_id             zrDi4gEaUi64lAMfJU51dw  zrTGcb83AsfyVTMrsCa65A  \\\n",
       "user_id                                                                  \n",
       "--2HUmLkcNHZp0xw6AMBPg                     NaN                     NaN   \n",
       "--4rAAfZnEIAKJE80aIiYg                     NaN                     NaN   \n",
       "--Nnm_506G_p8MxAOQna5w                     NaN                     NaN   \n",
       "--ty7Z9fEt08E3dS3_qoSA                     NaN                     NaN   \n",
       "-0IiMAZI2SsQ7VmyzJjokQ                     NaN                     NaN   \n",
       "\n",
       "business_id             zuVvDYJkKAbXQTTBauAqJQ  \n",
       "user_id                                         \n",
       "--2HUmLkcNHZp0xw6AMBPg                     NaN  \n",
       "--4rAAfZnEIAKJE80aIiYg                     NaN  \n",
       "--Nnm_506G_p8MxAOQna5w                     NaN  \n",
       "--ty7Z9fEt08E3dS3_qoSA                     NaN  \n",
       "-0IiMAZI2SsQ7VmyzJjokQ                     NaN  \n",
       "\n",
       "[5 rows x 1411 columns]"
      ]
     },
     "execution_count": 39,
     "metadata": {},
     "output_type": "execute_result"
    }
   ],
   "source": [
    "userid_rating_matrix.head()"
   ]
  },
  {
   "cell_type": "code",
   "execution_count": 40,
   "metadata": {},
   "outputs": [],
   "source": [
    "P = pd.DataFrame(userid_vectors.toarray(), index=userid_df.index, columns=userid_vectorizer.get_feature_names())\n",
    "Q = pd.DataFrame(businessid_vectors.toarray(), index=business_df.index, columns=businessid_vectorizer.get_feature_names())"
   ]
  },
  {
   "cell_type": "code",
   "execution_count": 41,
   "metadata": {
    "scrolled": true
   },
   "outputs": [
    {
     "data": {
      "text/html": [
       "<div>\n",
       "<style scoped>\n",
       "    .dataframe tbody tr th:only-of-type {\n",
       "        vertical-align: middle;\n",
       "    }\n",
       "\n",
       "    .dataframe tbody tr th {\n",
       "        vertical-align: top;\n",
       "    }\n",
       "\n",
       "    .dataframe thead th {\n",
       "        text-align: right;\n",
       "    }\n",
       "</style>\n",
       "<table border=\"1\" class=\"dataframe\">\n",
       "  <thead>\n",
       "    <tr style=\"text-align: right;\">\n",
       "      <th></th>\n",
       "      <th>0</th>\n",
       "      <th>1</th>\n",
       "      <th>10</th>\n",
       "      <th>100</th>\n",
       "      <th>1000</th>\n",
       "      <th>101</th>\n",
       "      <th>1015</th>\n",
       "      <th>1030</th>\n",
       "      <th>10pm</th>\n",
       "      <th>11</th>\n",
       "      <th>...</th>\n",
       "      <th>z</th>\n",
       "      <th>zero</th>\n",
       "      <th>zest</th>\n",
       "      <th>zinburger</th>\n",
       "      <th>zinc</th>\n",
       "      <th>zipps</th>\n",
       "      <th>ziti</th>\n",
       "      <th>zookz</th>\n",
       "      <th>ztejas</th>\n",
       "      <th>zucchini</th>\n",
       "    </tr>\n",
       "    <tr>\n",
       "      <th>business_id</th>\n",
       "      <th></th>\n",
       "      <th></th>\n",
       "      <th></th>\n",
       "      <th></th>\n",
       "      <th></th>\n",
       "      <th></th>\n",
       "      <th></th>\n",
       "      <th></th>\n",
       "      <th></th>\n",
       "      <th></th>\n",
       "      <th></th>\n",
       "      <th></th>\n",
       "      <th></th>\n",
       "      <th></th>\n",
       "      <th></th>\n",
       "      <th></th>\n",
       "      <th></th>\n",
       "      <th></th>\n",
       "      <th></th>\n",
       "      <th></th>\n",
       "      <th></th>\n",
       "    </tr>\n",
       "  </thead>\n",
       "  <tbody>\n",
       "    <tr>\n",
       "      <th>-050d_XIor1NpCuWkbIVaQ</th>\n",
       "      <td>0.0</td>\n",
       "      <td>0.008223</td>\n",
       "      <td>0.007567</td>\n",
       "      <td>0.018716</td>\n",
       "      <td>0.0</td>\n",
       "      <td>0.0</td>\n",
       "      <td>0.0</td>\n",
       "      <td>0.01094</td>\n",
       "      <td>0.0</td>\n",
       "      <td>0.0</td>\n",
       "      <td>...</td>\n",
       "      <td>0.0</td>\n",
       "      <td>0.0</td>\n",
       "      <td>0.0</td>\n",
       "      <td>0.0</td>\n",
       "      <td>0.0</td>\n",
       "      <td>0.0</td>\n",
       "      <td>0.0</td>\n",
       "      <td>0.0</td>\n",
       "      <td>0.0</td>\n",
       "      <td>0.0</td>\n",
       "    </tr>\n",
       "    <tr>\n",
       "      <th>-1UMR00eXtwaeh59pEiDjA</th>\n",
       "      <td>0.0</td>\n",
       "      <td>0.000000</td>\n",
       "      <td>0.000000</td>\n",
       "      <td>0.000000</td>\n",
       "      <td>0.0</td>\n",
       "      <td>0.0</td>\n",
       "      <td>0.0</td>\n",
       "      <td>0.00000</td>\n",
       "      <td>0.0</td>\n",
       "      <td>0.0</td>\n",
       "      <td>...</td>\n",
       "      <td>0.0</td>\n",
       "      <td>0.0</td>\n",
       "      <td>0.0</td>\n",
       "      <td>0.0</td>\n",
       "      <td>0.0</td>\n",
       "      <td>0.0</td>\n",
       "      <td>0.0</td>\n",
       "      <td>0.0</td>\n",
       "      <td>0.0</td>\n",
       "      <td>0.0</td>\n",
       "    </tr>\n",
       "    <tr>\n",
       "      <th>-4TMQnQJW1yd6NqGRDvAeA</th>\n",
       "      <td>0.0</td>\n",
       "      <td>0.000000</td>\n",
       "      <td>0.000000</td>\n",
       "      <td>0.000000</td>\n",
       "      <td>0.0</td>\n",
       "      <td>0.0</td>\n",
       "      <td>0.0</td>\n",
       "      <td>0.00000</td>\n",
       "      <td>0.0</td>\n",
       "      <td>0.0</td>\n",
       "      <td>...</td>\n",
       "      <td>0.0</td>\n",
       "      <td>0.0</td>\n",
       "      <td>0.0</td>\n",
       "      <td>0.0</td>\n",
       "      <td>0.0</td>\n",
       "      <td>0.0</td>\n",
       "      <td>0.0</td>\n",
       "      <td>0.0</td>\n",
       "      <td>0.0</td>\n",
       "      <td>0.0</td>\n",
       "    </tr>\n",
       "    <tr>\n",
       "      <th>-6h3K1hj0d4DRcZNUtHDuw</th>\n",
       "      <td>0.0</td>\n",
       "      <td>0.028893</td>\n",
       "      <td>0.026588</td>\n",
       "      <td>0.000000</td>\n",
       "      <td>0.0</td>\n",
       "      <td>0.0</td>\n",
       "      <td>0.0</td>\n",
       "      <td>0.00000</td>\n",
       "      <td>0.0</td>\n",
       "      <td>0.0</td>\n",
       "      <td>...</td>\n",
       "      <td>0.0</td>\n",
       "      <td>0.0</td>\n",
       "      <td>0.0</td>\n",
       "      <td>0.0</td>\n",
       "      <td>0.0</td>\n",
       "      <td>0.0</td>\n",
       "      <td>0.0</td>\n",
       "      <td>0.0</td>\n",
       "      <td>0.0</td>\n",
       "      <td>0.0</td>\n",
       "    </tr>\n",
       "    <tr>\n",
       "      <th>-8QlV3b_9H4BAh6LgMIr1g</th>\n",
       "      <td>0.0</td>\n",
       "      <td>0.000000</td>\n",
       "      <td>0.017147</td>\n",
       "      <td>0.000000</td>\n",
       "      <td>0.0</td>\n",
       "      <td>0.0</td>\n",
       "      <td>0.0</td>\n",
       "      <td>0.00000</td>\n",
       "      <td>0.0</td>\n",
       "      <td>0.0</td>\n",
       "      <td>...</td>\n",
       "      <td>0.0</td>\n",
       "      <td>0.0</td>\n",
       "      <td>0.0</td>\n",
       "      <td>0.0</td>\n",
       "      <td>0.0</td>\n",
       "      <td>0.0</td>\n",
       "      <td>0.0</td>\n",
       "      <td>0.0</td>\n",
       "      <td>0.0</td>\n",
       "      <td>0.0</td>\n",
       "    </tr>\n",
       "  </tbody>\n",
       "</table>\n",
       "<p>5 rows × 5000 columns</p>\n",
       "</div>"
      ],
      "text/plain": [
       "                          0         1        10       100  1000  101  1015  \\\n",
       "business_id                                                                  \n",
       "-050d_XIor1NpCuWkbIVaQ  0.0  0.008223  0.007567  0.018716   0.0  0.0   0.0   \n",
       "-1UMR00eXtwaeh59pEiDjA  0.0  0.000000  0.000000  0.000000   0.0  0.0   0.0   \n",
       "-4TMQnQJW1yd6NqGRDvAeA  0.0  0.000000  0.000000  0.000000   0.0  0.0   0.0   \n",
       "-6h3K1hj0d4DRcZNUtHDuw  0.0  0.028893  0.026588  0.000000   0.0  0.0   0.0   \n",
       "-8QlV3b_9H4BAh6LgMIr1g  0.0  0.000000  0.017147  0.000000   0.0  0.0   0.0   \n",
       "\n",
       "                           1030  10pm   11    ...       z  zero  zest  \\\n",
       "business_id                                   ...                       \n",
       "-050d_XIor1NpCuWkbIVaQ  0.01094   0.0  0.0    ...     0.0   0.0   0.0   \n",
       "-1UMR00eXtwaeh59pEiDjA  0.00000   0.0  0.0    ...     0.0   0.0   0.0   \n",
       "-4TMQnQJW1yd6NqGRDvAeA  0.00000   0.0  0.0    ...     0.0   0.0   0.0   \n",
       "-6h3K1hj0d4DRcZNUtHDuw  0.00000   0.0  0.0    ...     0.0   0.0   0.0   \n",
       "-8QlV3b_9H4BAh6LgMIr1g  0.00000   0.0  0.0    ...     0.0   0.0   0.0   \n",
       "\n",
       "                        zinburger  zinc  zipps  ziti  zookz  ztejas  zucchini  \n",
       "business_id                                                                    \n",
       "-050d_XIor1NpCuWkbIVaQ        0.0   0.0    0.0   0.0    0.0     0.0       0.0  \n",
       "-1UMR00eXtwaeh59pEiDjA        0.0   0.0    0.0   0.0    0.0     0.0       0.0  \n",
       "-4TMQnQJW1yd6NqGRDvAeA        0.0   0.0    0.0   0.0    0.0     0.0       0.0  \n",
       "-6h3K1hj0d4DRcZNUtHDuw        0.0   0.0    0.0   0.0    0.0     0.0       0.0  \n",
       "-8QlV3b_9H4BAh6LgMIr1g        0.0   0.0    0.0   0.0    0.0     0.0       0.0  \n",
       "\n",
       "[5 rows x 5000 columns]"
      ]
     },
     "execution_count": 41,
     "metadata": {},
     "output_type": "execute_result"
    }
   ],
   "source": [
    "Q.head()"
   ]
  },
  {
   "cell_type": "code",
   "execution_count": 42,
   "metadata": {},
   "outputs": [],
   "source": [
    "\n",
    "def matrix_factorization(R, P, Q, steps=25, gamma=0.001,lamda=0.02):\n",
    "    for step in range(steps):\n",
    "        for i in R.index:\n",
    "            for j in R.columns:\n",
    "                if R.loc[i,j]>0:\n",
    "                    eij=R.loc[i,j]-np.dot(P.loc[i],Q.loc[j])\n",
    "                    P.loc[i]=P.loc[i]+gamma*(eij*Q.loc[j]-lamda*P.loc[i])\n",
    "                    Q.loc[j]=Q.loc[j]+gamma*(eij*P.loc[i]-lamda*Q.loc[j])\n",
    "        e=0\n",
    "        for i in R.index:\n",
    "            for j in R.columns:\n",
    "                if R.loc[i,j]>0:\n",
    "                    e= e + pow(R.loc[i,j]-np.dot(P.loc[i],Q.loc[j]),2)+lamda*(pow(np.linalg.norm(P.loc[i]),2)+pow(np.linalg.norm(Q.loc[j]),2))\n",
    "        if e<0.001:\n",
    "            break\n",
    "        \n",
    "    return P,Q"
   ]
  },
  {
   "cell_type": "code",
   "execution_count": 45,
   "metadata": {},
   "outputs": [
    {
     "ename": "KeyboardInterrupt",
     "evalue": "",
     "output_type": "error",
     "traceback": [
      "\u001b[0;31m---------------------------------------------------------------------------\u001b[0m",
      "\u001b[0;31mKeyboardInterrupt\u001b[0m                         Traceback (most recent call last)",
      "\u001b[0;32m<timed exec>\u001b[0m in \u001b[0;36m<module>\u001b[0;34m\u001b[0m\n",
      "\u001b[0;32m<ipython-input-42-0ac214dbc222>\u001b[0m in \u001b[0;36mmatrix_factorization\u001b[0;34m(R, P, Q, steps, gamma, lamda)\u001b[0m\n\u001b[1;32m      4\u001b[0m         \u001b[0;32mfor\u001b[0m \u001b[0mi\u001b[0m \u001b[0;32min\u001b[0m \u001b[0mR\u001b[0m\u001b[0;34m.\u001b[0m\u001b[0mindex\u001b[0m\u001b[0;34m:\u001b[0m\u001b[0;34m\u001b[0m\u001b[0m\n\u001b[1;32m      5\u001b[0m             \u001b[0;32mfor\u001b[0m \u001b[0mj\u001b[0m \u001b[0;32min\u001b[0m \u001b[0mR\u001b[0m\u001b[0;34m.\u001b[0m\u001b[0mcolumns\u001b[0m\u001b[0;34m:\u001b[0m\u001b[0;34m\u001b[0m\u001b[0m\n\u001b[0;32m----> 6\u001b[0;31m                 \u001b[0;32mif\u001b[0m \u001b[0mR\u001b[0m\u001b[0;34m.\u001b[0m\u001b[0mloc\u001b[0m\u001b[0;34m[\u001b[0m\u001b[0mi\u001b[0m\u001b[0;34m,\u001b[0m\u001b[0mj\u001b[0m\u001b[0;34m]\u001b[0m\u001b[0;34m>\u001b[0m\u001b[0;36m0\u001b[0m\u001b[0;34m:\u001b[0m\u001b[0;34m\u001b[0m\u001b[0m\n\u001b[0m\u001b[1;32m      7\u001b[0m                     \u001b[0meij\u001b[0m\u001b[0;34m=\u001b[0m\u001b[0mR\u001b[0m\u001b[0;34m.\u001b[0m\u001b[0mloc\u001b[0m\u001b[0;34m[\u001b[0m\u001b[0mi\u001b[0m\u001b[0;34m,\u001b[0m\u001b[0mj\u001b[0m\u001b[0;34m]\u001b[0m\u001b[0;34m-\u001b[0m\u001b[0mnp\u001b[0m\u001b[0;34m.\u001b[0m\u001b[0mdot\u001b[0m\u001b[0;34m(\u001b[0m\u001b[0mP\u001b[0m\u001b[0;34m.\u001b[0m\u001b[0mloc\u001b[0m\u001b[0;34m[\u001b[0m\u001b[0mi\u001b[0m\u001b[0;34m]\u001b[0m\u001b[0;34m,\u001b[0m\u001b[0mQ\u001b[0m\u001b[0;34m.\u001b[0m\u001b[0mloc\u001b[0m\u001b[0;34m[\u001b[0m\u001b[0mj\u001b[0m\u001b[0;34m]\u001b[0m\u001b[0;34m)\u001b[0m\u001b[0;34m\u001b[0m\u001b[0m\n\u001b[1;32m      8\u001b[0m                     \u001b[0mP\u001b[0m\u001b[0;34m.\u001b[0m\u001b[0mloc\u001b[0m\u001b[0;34m[\u001b[0m\u001b[0mi\u001b[0m\u001b[0;34m]\u001b[0m\u001b[0;34m=\u001b[0m\u001b[0mP\u001b[0m\u001b[0;34m.\u001b[0m\u001b[0mloc\u001b[0m\u001b[0;34m[\u001b[0m\u001b[0mi\u001b[0m\u001b[0;34m]\u001b[0m\u001b[0;34m+\u001b[0m\u001b[0mgamma\u001b[0m\u001b[0;34m*\u001b[0m\u001b[0;34m(\u001b[0m\u001b[0meij\u001b[0m\u001b[0;34m*\u001b[0m\u001b[0mQ\u001b[0m\u001b[0;34m.\u001b[0m\u001b[0mloc\u001b[0m\u001b[0;34m[\u001b[0m\u001b[0mj\u001b[0m\u001b[0;34m]\u001b[0m\u001b[0;34m-\u001b[0m\u001b[0mlamda\u001b[0m\u001b[0;34m*\u001b[0m\u001b[0mP\u001b[0m\u001b[0;34m.\u001b[0m\u001b[0mloc\u001b[0m\u001b[0;34m[\u001b[0m\u001b[0mi\u001b[0m\u001b[0;34m]\u001b[0m\u001b[0;34m)\u001b[0m\u001b[0;34m\u001b[0m\u001b[0m\n",
      "\u001b[0;32m~/anaconda3/lib/python3.6/site-packages/pandas/core/indexing.py\u001b[0m in \u001b[0;36m__getitem__\u001b[0;34m(self, key)\u001b[0m\n\u001b[1;32m   1466\u001b[0m                         for x in key)\n\u001b[1;32m   1467\u001b[0m             \u001b[0;32mtry\u001b[0m\u001b[0;34m:\u001b[0m\u001b[0;34m\u001b[0m\u001b[0m\n\u001b[0;32m-> 1468\u001b[0;31m                 \u001b[0;32mif\u001b[0m \u001b[0mself\u001b[0m\u001b[0;34m.\u001b[0m\u001b[0m_is_scalar_access\u001b[0m\u001b[0;34m(\u001b[0m\u001b[0mkey\u001b[0m\u001b[0;34m)\u001b[0m\u001b[0;34m:\u001b[0m\u001b[0;34m\u001b[0m\u001b[0m\n\u001b[0m\u001b[1;32m   1469\u001b[0m                     \u001b[0;32mreturn\u001b[0m \u001b[0mself\u001b[0m\u001b[0;34m.\u001b[0m\u001b[0m_getitem_scalar\u001b[0m\u001b[0;34m(\u001b[0m\u001b[0mkey\u001b[0m\u001b[0;34m)\u001b[0m\u001b[0;34m\u001b[0m\u001b[0m\n\u001b[1;32m   1470\u001b[0m             \u001b[0;32mexcept\u001b[0m \u001b[0;34m(\u001b[0m\u001b[0mKeyError\u001b[0m\u001b[0;34m,\u001b[0m \u001b[0mIndexError\u001b[0m\u001b[0;34m)\u001b[0m\u001b[0;34m:\u001b[0m\u001b[0;34m\u001b[0m\u001b[0m\n",
      "\u001b[0;32m~/anaconda3/lib/python3.6/site-packages/pandas/core/indexing.py\u001b[0m in \u001b[0;36m_is_scalar_access\u001b[0;34m(self, key)\u001b[0m\n\u001b[1;32m   1810\u001b[0m \u001b[0;34m\u001b[0m\u001b[0m\n\u001b[1;32m   1811\u001b[0m         \u001b[0;32mfor\u001b[0m \u001b[0mi\u001b[0m\u001b[0;34m,\u001b[0m \u001b[0mk\u001b[0m \u001b[0;32min\u001b[0m \u001b[0menumerate\u001b[0m\u001b[0;34m(\u001b[0m\u001b[0mkey\u001b[0m\u001b[0;34m)\u001b[0m\u001b[0;34m:\u001b[0m\u001b[0;34m\u001b[0m\u001b[0m\n\u001b[0;32m-> 1812\u001b[0;31m             \u001b[0;32mif\u001b[0m \u001b[0;32mnot\u001b[0m \u001b[0mis_scalar\u001b[0m\u001b[0;34m(\u001b[0m\u001b[0mk\u001b[0m\u001b[0;34m)\u001b[0m\u001b[0;34m:\u001b[0m\u001b[0;34m\u001b[0m\u001b[0m\n\u001b[0m\u001b[1;32m   1813\u001b[0m                 \u001b[0;32mreturn\u001b[0m \u001b[0;32mFalse\u001b[0m\u001b[0;34m\u001b[0m\u001b[0m\n\u001b[1;32m   1814\u001b[0m \u001b[0;34m\u001b[0m\u001b[0m\n",
      "\u001b[0;31mKeyboardInterrupt\u001b[0m: "
     ]
    }
   ],
   "source": [
    "%%time\n",
    "P, Q = matrix_factorization(userid_rating_matrix, P, Q, steps=25, gamma=0.001,lamda=0.02)"
   ]
  },
  {
   "cell_type": "code",
   "execution_count": null,
   "metadata": {},
   "outputs": [],
   "source": []
  },
  {
   "cell_type": "code",
   "execution_count": 47,
   "metadata": {},
   "outputs": [
    {
     "name": "stdout",
     "output_type": "stream",
     "text": [
      "Isabella's Kitchen\n",
      "Bars, Nightlife, Beer, Wine & Spirits, Italian, Food, Restaurants\n",
      "3.5 259\n",
      "\n",
      "Compass Arizona Grill\n",
      "Nightlife, American (New), Bars, Restaurants, Lounges\n",
      "3.5 540\n",
      "\n",
      "Chart House\n",
      "Event Planning & Services, Restaurants, Venues & Event Spaces, American (Traditional), Seafood, Nightlife, Bars, Steakhouses, Wine Bars\n",
      "3.0 229\n",
      "\n",
      "Top of the Rock Restaurant\n",
      "Restaurants, American (New), Hotels & Travel, Event Planning & Services, Hotels\n",
      "3.5 325\n",
      "\n",
      "Orange Sky\n",
      "Seafood, Steakhouses, American (New), Restaurants\n",
      "4.0 562\n",
      "\n",
      "Different Pointe of View\n",
      "Restaurants, American (Traditional), Italian, Mediterranean, Resorts, Hotels & Travel\n",
      "4.0 512\n",
      "\n",
      "The Wrigley Mansion Club\n",
      "Breakfast & Brunch, Venues & Event Spaces, Restaurants, Nightlife, Music Venues, Arts & Entertainment, American (New), Event Planning & Services, Bars\n",
      "3.5 238\n",
      "\n"
     ]
    }
   ],
   "source": [
    "\n",
    "words = \"i want to have dinner with beautiful views\"\n",
    "test_df= pd.DataFrame([words], columns=['text'])\n",
    "test_df['text'] = test_df['text'].apply(text_process)\n",
    "test_vectors = userid_vectorizer.transform(test_df['text'])\n",
    "test_v_df = pd.DataFrame(test_vectors.toarray(), index=test_df.index, columns=userid_vectorizer.get_feature_names())\n",
    "\n",
    "predictItemRating=pd.DataFrame(np.dot(test_v_df.loc[0],Q.T),index=Q.index,columns=['Rating'])\n",
    "topRecommendations=pd.DataFrame.sort_values(predictItemRating,['Rating'],ascending=[0])[:7]\n",
    "\n",
    "for i in topRecommendations.index:\n",
    "    print(business[business['business_id']==i]['name'].iloc[0])\n",
    "    print(business[business['business_id']==i]['categories'].iloc[0])\n",
    "    print(str(business[business['business_id']==i]['stars'].iloc[0])+ ' '+str(business[business['business_id']==i]['review_count'].iloc[0]))\n",
    "    print('')"
   ]
  },
  {
   "cell_type": "code",
   "execution_count": null,
   "metadata": {},
   "outputs": [],
   "source": []
  }
 ],
 "metadata": {
  "kernelspec": {
   "display_name": "Python 3",
   "language": "python",
   "name": "python3"
  },
  "language_info": {
   "codemirror_mode": {
    "name": "ipython",
    "version": 3
   },
   "file_extension": ".py",
   "mimetype": "text/x-python",
   "name": "python",
   "nbconvert_exporter": "python",
   "pygments_lexer": "ipython3",
   "version": "3.6.6"
  }
 },
 "nbformat": 4,
 "nbformat_minor": 2
}
